{
 "cells": [
  {
   "cell_type": "code",
   "execution_count": 229,
   "metadata": {},
   "outputs": [],
   "source": [
    "import numpy as np\n",
    "import matplotlib.pyplot as plt\n",
    "from itertools import combinations_with_replacement"
   ]
  },
  {
   "cell_type": "code",
   "execution_count": 298,
   "metadata": {},
   "outputs": [],
   "source": [
    "# creates a grid that of nxn with a single unspecified activity in the middle\n",
    "class City():\n",
    "    def __init__(self, n=5, n_radius=1):\n",
    "        self.grid = np.empty(shape=(n,n), dtype=object)\n",
    "        self.n = n\n",
    "        self.t = 0\n",
    "        self.radius = n_radius\n",
    "        self.add_activity((n//2,n//2))\n",
    "        self.all_activities = self.get_all_activities()\n",
    "    \n",
    "    # adds a activity at specified position\n",
    "    def add_activity(self, pos):\n",
    "        self.grid[pos] = Activity(pos, self)\n",
    "\n",
    "    # deletes activity at specified position\n",
    "    def delete_activity(self, act):\n",
    "        self.grid[act.pos] = None\n",
    "        del act\n",
    "\n",
    "    # return a list of all acitivity objects on the city grid\n",
    "    def get_all_activities(self):\n",
    "        activities = []\n",
    "        for pos in combinations_with_replacement(range(self.n), 2):\n",
    "            if self.grid[pos]:\n",
    "                activities.append(self.grid[pos])\n",
    "        return activities\n",
    "    \n",
    "    # determines the type of an activity by recalculating the type probabilities\n",
    "    def update_types(self):\n",
    "        for act in self.all_activities:\n",
    "            act.calc_probs()\n",
    "            probsum = np.cumsum([act.pi, act.pm, act.pd])\n",
    "            z = np.random.rand()\n",
    "            if z < probsum[0]:\n",
    "                act.type = 'init'\n",
    "            elif z < probsum[1]:\n",
    "                act.type = 'mature'\n",
    "            else:\n",
    "                act.type = 'decline'\n",
    "\n",
    "    # deletes all activities that are declining\n",
    "    def delete_declining(self):\n",
    "        [self.delete_activity(act) for act in self.all_activities if act.type == 'decline']\n",
    "\n",
    "    # get the neigbors of surrounding cells\n",
    "    def get_neighbors(self, act):\n",
    "        neighbors = []\n",
    "        row, col = act.pos[0], act.pos[1]\n",
    "        for i, j in ((row - 1, col), (row + 1, col), (row, col - 1),\n",
    "            (row, col + 1), (row - 1, col - 1), (row - 1, col + 1),\n",
    "            (row + 1, col - 1), (row + 1, col + 1)):\n",
    "            if not (0 <= i < self.n and 0 <= j < self.n):\n",
    "                continue\n",
    "            if not self.grid[i][j]:\n",
    "                neighbors += [(i,j)]\n",
    "        return neighbors\n",
    "\n",
    "    # get the neighbors of initiate sites\n",
    "    def get_grow_candidates(self):\n",
    "        init_sites = [act for act in self.all_activities if act.type == 'init']\n",
    "        return [self.get_neighbors(act) for act in init_sites]\n",
    "\n",
    "    # initiate possible new cells\n",
    "    def initiate_new(self):\n",
    "        grow_candidates = self.get_grow_candidates()\n",
    "        # 1 determine if cell is canididate for growing\n",
    "        # 2 check neighborhood of cell\n",
    "\n",
    "    # time step\n",
    "    def step(self):\n",
    "        self.delete_declining()\n",
    "        self.t += 1\n",
    "        self.update_types()\n",
    "        print(self.grid)\n",
    "        self.initiate_new()\n",
    "\n",
    "class Activity():\n",
    "    def __init__(self, pos, city):\n",
    "        self.decay = 1/10\n",
    "        self.pos = pos\n",
    "        self.city = city\n",
    "        self.init_t = city.t\n",
    "        self.type = 'new'\n",
    "        self.calc_probs()\n",
    "        \n",
    "    def calc_probs(self):\n",
    "        self.pi = np.exp(-self.decay*(self.city.t-self.init_t))\n",
    "        self.pm = (1-self.pi)*np.exp(-self.decay*(self.city.t-self.init_t))\n",
    "        self.pd = 1 - self.pm - self.pi\n",
    "        \n",
    "        "
   ]
  },
  {
   "cell_type": "code",
   "execution_count": 299,
   "metadata": {},
   "outputs": [
    {
     "name": "stdout",
     "output_type": "stream",
     "text": [
      "[[None None None None None]\n",
      " [None None None None None]\n",
      " [None None <__main__.Activity object at 0x0000026FD4F4CEF0> None None]\n",
      " [None None None None None]\n",
      " [None None None None None]]\n",
      "[[None None None None None]\n",
      " [None None None None None]\n",
      " [None None <__main__.Activity object at 0x0000026FD4F4CEF0> None None]\n",
      " [None None None None None]\n",
      " [None None None None None]]\n",
      "[[None None None None None]\n",
      " [None None None None None]\n",
      " [None None <__main__.Activity object at 0x0000026FD4F4CEF0> None None]\n",
      " [None None None None None]\n",
      " [None None None None None]]\n",
      "[[None None None None None]\n",
      " [None None None None None]\n",
      " [None None <__main__.Activity object at 0x0000026FD4F4CEF0> None None]\n",
      " [None None None None None]\n",
      " [None None None None None]]\n",
      "[[None None None None None]\n",
      " [None None None None None]\n",
      " [None None <__main__.Activity object at 0x0000026FD4F4CEF0> None None]\n",
      " [None None None None None]\n",
      " [None None None None None]]\n",
      "[[None None None None None]\n",
      " [None None None None None]\n",
      " [None None None None None]\n",
      " [None None None None None]\n",
      " [None None None None None]]\n"
     ]
    }
   ],
   "source": [
    "city0 = City()\n",
    "while city0.grid.any():\n",
    "    city0.step()"
   ]
  },
  {
   "cell_type": "code",
   "execution_count": 228,
   "metadata": {},
   "outputs": [
    {
     "name": "stdout",
     "output_type": "stream",
     "text": [
      "(0, 0)\n",
      "(0, 1)\n",
      "(0, 2)\n",
      "(0, 3)\n",
      "(0, 4)\n",
      "(1, 1)\n",
      "(1, 2)\n",
      "(1, 3)\n",
      "(1, 4)\n",
      "(2, 2)\n",
      "(2, 3)\n",
      "(2, 4)\n",
      "(3, 3)\n",
      "(3, 4)\n",
      "(4, 4)\n"
     ]
    }
   ],
   "source": [
    "def get_neighbours(self):\n",
    "        return \n",
    "    "
   ]
  },
  {
   "cell_type": "code",
   "execution_count": null,
   "metadata": {},
   "outputs": [],
   "source": [
    "[(self.y+1, self.x), (self.y-1, self.x), (self.y, (self.x+1)%self.model.N), (self.y, (self.x-1+self.model.N)%self.model.N)]\n",
    "\n"
   ]
  }
 ],
 "metadata": {
  "kernelspec": {
   "display_name": "Python 3",
   "language": "python",
   "name": "python3"
  },
  "language_info": {
   "codemirror_mode": {
    "name": "ipython",
    "version": 3
   },
   "file_extension": ".py",
   "mimetype": "text/x-python",
   "name": "python",
   "nbconvert_exporter": "python",
   "pygments_lexer": "ipython3",
   "version": "3.6.9"
  }
 },
 "nbformat": 4,
 "nbformat_minor": 4
}
